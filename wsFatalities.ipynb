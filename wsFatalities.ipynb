{
 "cells": [
  {
   "cell_type": "code",
   "execution_count": null,
   "metadata": {},
   "outputs": [],
   "source": [
    "import pandas as pd\n",
    "import requests\n",
    "from bs4 import BeautifulSoup\n",
    "import re"
   ]
  },
  {
   "cell_type": "code",
   "execution_count": null,
   "metadata": {},
   "outputs": [],
   "source": [
    "## Checking the WebSite structure\n",
    "url ='https://en.wikipedia.org/wiki/List_of_Formula_One_fatalities'\n",
    "\n",
    "headers = {\n",
    "    \"User-Agent\": \"Mozilla/5.0 (Windows NT 10.0; Win64; x64) AppleWebKit/537.36 (KHTML, like Gecko) Chrome/132.0.0.0 Safari/537.36\"\n",
    "}\n",
    "\n",
    "page = requests.get(url, headers=headers)\n",
    "\n",
    "soup = BeautifulSoup(page.text, 'html.parser') \n",
    "print(soup)"
   ]
  },
  {
   "cell_type": "code",
   "execution_count": null,
   "metadata": {},
   "outputs": [],
   "source": [
    "## Finding the correct table\n",
    "table = soup.find('table', class_ = 'wikitable plainrowheaders sortable')\n",
    "print(table)"
   ]
  },
  {
   "cell_type": "code",
   "execution_count": null,
   "metadata": {},
   "outputs": [],
   "source": [
    "## Finding the correct headers\n",
    "f_headers = table.find_all('th')\n",
    "f_headers"
   ]
  },
  {
   "cell_type": "code",
   "execution_count": null,
   "metadata": {},
   "outputs": [],
   "source": [
    "## Selecting the headers for the table \"Fatalities By Name\" and converting it into a list\n",
    "f_headers = table.find('tr').find_all('th')\n",
    "f_table_headers = [header.text.strip() for header in f_headers]\n",
    "print(f_table_headers)"
   ]
  },
  {
   "cell_type": "code",
   "execution_count": null,
   "metadata": {},
   "outputs": [],
   "source": [
    "## Converting the list into a DataFrame\n",
    "df = pd.DataFrame(columns = f_table_headers)\n",
    "df"
   ]
  },
  {
   "cell_type": "code",
   "execution_count": null,
   "metadata": {},
   "outputs": [],
   "source": [
    "## Creating the loops to add the data from the WebSite into the DataFrame\n",
    "rows = table.find_all('tr')[1:] # Excluding the first line since it contains the headers\n",
    "for row in rows:\n",
    "    header_data = row.find('th')\n",
    "    row_data = row.find_all('td')\n",
    "\n",
    "    individual_row_data = [header_data.text.strip()] if header_data else []\n",
    "    individual_row_data += [data.text.strip() for data in row_data]\n",
    "\n",
    "    # Handling extra and missing values\n",
    "    while len(individual_row_data) < len(f_table_headers):\n",
    "        individual_row_data.append('') \n",
    "    \n",
    "    while len(individual_row_data) > len(f_table_headers):\n",
    "        individual_row_data = individual_row_data[:len(f_table_headers)]\n",
    "\n",
    "    df.loc[len(df)] = individual_row_data"
   ]
  },
  {
   "cell_type": "code",
   "execution_count": null,
   "metadata": {},
   "outputs": [],
   "source": [
    "pd.set_option(\"display.max_rows\",None)\n",
    "df.count()"
   ]
  },
  {
   "cell_type": "code",
   "execution_count": null,
   "metadata": {},
   "outputs": [],
   "source": [
    "df[\"Driver\"].head()"
   ]
  },
  {
   "cell_type": "code",
   "execution_count": null,
   "metadata": {},
   "outputs": [],
   "source": [
    "## Adjusting Drivers Names\n",
    "df[\"Driver\"] = df[\"Driver\"].apply(lambda x: re.sub(r\"[\\(\\[].*?[\\)\\]]\", \"\", x).strip())\n",
    "df.head(10)"
   ]
  },
  {
   "cell_type": "code",
   "execution_count": null,
   "metadata": {},
   "outputs": [],
   "source": [
    "# Importing the main Dataset to include the new information\n",
    "f1_df = pd.read_csv('F1DataExploration.csv')"
   ]
  },
  {
   "cell_type": "code",
   "execution_count": null,
   "metadata": {},
   "outputs": [],
   "source": [
    "f1_df.head()"
   ]
  },
  {
   "cell_type": "code",
   "execution_count": null,
   "metadata": {},
   "outputs": [],
   "source": [
    "## Adjusting the dates to compare them after\n",
    "df['Date of accident'] = pd.to_datetime(df['Date of accident'], errors='coerce')\n",
    "f1_df['driverDeath'] = pd.to_datetime(f1_df['driverDeath'], errors='coerce')\n",
    "\n",
    "df['Year of Accident'] = df['Date of accident'].dt.year\n",
    "f1_df['Year of Death'] = f1_df['driverDeath'].dt.year\n"
   ]
  },
  {
   "cell_type": "code",
   "execution_count": null,
   "metadata": {},
   "outputs": [],
   "source": [
    "f1_df['fatalAccident'] = \"\""
   ]
  },
  {
   "cell_type": "code",
   "execution_count": null,
   "metadata": {},
   "outputs": [],
   "source": [
    "# Bringing the accidents information to the Dataset\n",
    "fatal_crashes = set(zip(df['Driver'], df['Year of Accident']))\n",
    "\n",
    "f1_df['fatalAccident'] = f1_df.apply(\n",
    "    lambda row: \"fatalAccident \"+row['driverName'] if (row['driverName'], row['year']) in fatal_crashes else \"\",\n",
    "    axis=1\n",
    ")\n",
    "\n",
    "f1_df.head()"
   ]
  },
  {
   "cell_type": "code",
   "execution_count": null,
   "metadata": {},
   "outputs": [],
   "source": [
    "#Cheking...\n",
    "filtered_df1 = f1_df[(f1_df['driverName'] == 'Ayrton Senna')]\n",
    "filtered_df1[['raceId','year', 'date','GrandPrixName', 'driverDeath','driverName', 'fatalAccident']].sort_values(by='fatalAccident', ascending=False).head()"
   ]
  },
  {
   "cell_type": "code",
   "execution_count": null,
   "metadata": {},
   "outputs": [],
   "source": [
    "filtered_df = f1_df[(f1_df['fatalAccident'] != r'\\N') & (f1_df['driverName'] == 'Charles de Tornaco')]"
   ]
  },
  {
   "cell_type": "code",
   "execution_count": null,
   "metadata": {},
   "outputs": [],
   "source": [
    "filtered_df[['raceId','year', 'date','GrandPrixName', 'driverName', 'fatalAccident']].sort_values(by='driverName')"
   ]
  },
  {
   "cell_type": "code",
   "execution_count": null,
   "metadata": {},
   "outputs": [],
   "source": [
    "f1_df.to_csv('F1Dataset.csv', index=False)"
   ]
  }
 ],
 "metadata": {
  "kernelspec": {
   "display_name": "base",
   "language": "python",
   "name": "python3"
  },
  "language_info": {
   "codemirror_mode": {
    "name": "ipython",
    "version": 3
   },
   "file_extension": ".py",
   "mimetype": "text/x-python",
   "name": "python",
   "nbconvert_exporter": "python",
   "pygments_lexer": "ipython3",
   "version": "3.9.21"
  }
 },
 "nbformat": 4,
 "nbformat_minor": 2
}
