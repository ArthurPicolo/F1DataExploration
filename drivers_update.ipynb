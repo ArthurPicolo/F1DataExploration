{
 "cells": [
  {
   "cell_type": "markdown",
   "metadata": {},
   "source": [
    "Importing Libs"
   ]
  },
  {
   "cell_type": "code",
   "execution_count": 1,
   "metadata": {},
   "outputs": [],
   "source": [
    "import pandas as pd\n",
    "import requests\n",
    "from bs4 import BeautifulSoup\n",
    "import time\n",
    "import random\n",
    "import re\n"
   ]
  },
  {
   "cell_type": "markdown",
   "metadata": {},
   "source": [
    "Web Scraping for Drivers Death Date"
   ]
  },
  {
   "cell_type": "code",
   "execution_count": null,
   "metadata": {},
   "outputs": [],
   "source": [
    "## Checking DataFrame Structure\n",
    "df = pd.read_csv('F1/drivers.csv')\n",
    "df.head()"
   ]
  },
  {
   "cell_type": "code",
   "execution_count": null,
   "metadata": {},
   "outputs": [],
   "source": [
    "## Creating a list to storage the URLs\n",
    "url = list(df['url'])"
   ]
  },
  {
   "cell_type": "code",
   "execution_count": null,
   "metadata": {},
   "outputs": [],
   "source": [
    "death_dates = []"
   ]
  },
  {
   "cell_type": "code",
   "execution_count": null,
   "metadata": {},
   "outputs": [],
   "source": [
    "months = {\n",
    "    \"January\": \"01\", \"February\": \"02\", \"March\": \"03\", \"April\": \"04\",\n",
    "    \"May\": \"05\", \"June\": \"06\", \"July\": \"07\", \"August\": \"08\",\n",
    "    \"September\": \"09\", \"October\": \"10\", \"November\": \"11\", \"December\": \"12\"\n",
    "}"
   ]
  },
  {
   "cell_type": "code",
   "execution_count": null,
   "metadata": {},
   "outputs": [],
   "source": [
    "for url in df[\"url\"]:\n",
    "    try:\n",
    "        time.sleep(random.uniform(1, 3)) ## Avoidind blocks\n",
    "\n",
    "        page = requests.get(url, headers=headers)\n",
    "\n",
    "        soup = BeautifulSoup(page.text, \"html.parser\")\n",
    "\n",
    "        ## Fiding the correct table sctructure\n",
    "        infobox = soup.find(\"table\", {\"class\": \"infobox\"})\n",
    "        if infobox:\n",
    "            ## Finding the row that contains the Death Date info\n",
    "            death_date_row = infobox.find(\"th\", string=lambda text: text and \"Died\" in text)\n",
    "            if death_date_row:\n",
    "                raw_death_date = death_date_row.find_next(\"td\").text.strip()\n",
    "                \n",
    "                # Extracting the dates with the correct format (DD/MM/YYYY)\n",
    "                match = re.search(r\"(\\d{1,2}) (\\w+) (\\d{4})\", raw_death_date)\n",
    "                if match:\n",
    "                    day, month, year = match.groups()\n",
    "                    month_num = months.get(month, \"00\")\n",
    "                    death_date = f\"{day.zfill(2)}-{month_num}-{year}\"\n",
    "                else:\n",
    "                    death_date = \"Unrecognized Date\"\n",
    "            else:\n",
    "                death_date = \"Alive\"\n",
    "        else:\n",
    "            death_date = \"Not found\"\n",
    "\n",
    "    except requests.exceptions.RequestException:\n",
    "        death_date = \"Request error\"\n",
    "\n",
    "    except Exception:\n",
    "        death_date = \"Unrecognized error\"\n",
    "\n",
    "    death_dates.append(death_date)"
   ]
  },
  {
   "cell_type": "code",
   "execution_count": null,
   "metadata": {},
   "outputs": [],
   "source": [
    "## Adding the information to df\n",
    "df[\"driverDeath\"] = death_dates\n",
    "df.head()"
   ]
  },
  {
   "cell_type": "markdown",
   "metadata": {},
   "source": [
    "Saving the DataFrame as a CSV file"
   ]
  },
  {
   "cell_type": "code",
   "execution_count": null,
   "metadata": {},
   "outputs": [],
   "source": [
    "df.to_csv(\"F1/drivers_update.csv\", index=False)"
   ]
  }
 ],
 "metadata": {
  "colab": {
   "authorship_tag": "ABX9TyN4tYUO581bPd0le5I1CX3B",
   "mount_file_id": "1V0fSZh2VT5qswK5rEhp4A3-aSwskNsI-",
   "provenance": []
  },
  "kernelspec": {
   "display_name": "base",
   "language": "python",
   "name": "python3"
  },
  "language_info": {
   "codemirror_mode": {
    "name": "ipython",
    "version": 3
   },
   "file_extension": ".py",
   "mimetype": "text/x-python",
   "name": "python",
   "nbconvert_exporter": "python",
   "pygments_lexer": "ipython3",
   "version": "3.9.21"
  }
 },
 "nbformat": 4,
 "nbformat_minor": 0
}
